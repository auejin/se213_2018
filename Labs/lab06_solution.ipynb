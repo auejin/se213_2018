{
 "cells": [
  {
   "cell_type": "markdown",
   "metadata": {},
   "source": [
    "## Exercise #06-02"
   ]
  },
  {
   "cell_type": "code",
   "execution_count": 1,
   "metadata": {},
   "outputs": [
    {
     "name": "stdout",
     "output_type": "stream",
     "text": [
      "2\n",
      "11\n",
      "operating systems\n"
     ]
    }
   ],
   "source": [
    "def minmax(nested_list):\n",
    "    \"\"\"Return the minimum value of the maximum values of inner lists\"\"\"\n",
    "    # prepare an empty list\n",
    "    max_values = []\n",
    "    \n",
    "    # add max value of the inner lists one by one\n",
    "    for inner_list in nested_list:\n",
    "        max_values.append(max(inner_list))\n",
    "        \n",
    "    # return the minimum value of the maximum values\n",
    "    return min(max_values)    \n",
    "    \n",
    "\n",
    "example1 = [[1, 2], [3, 4], [5, 6]]\n",
    "example2 = [[42, 1024, 23], [6, 28, 496], [2, 3, 5, 7, 11]]\n",
    "example3 = [['programming', 'linear algebra'],\n",
    "            ['operating systems', 'computer architecture']]\n",
    "print(minmax(example1))\n",
    "print(minmax(example2))\n",
    "print(minmax(example3))  "
   ]
  },
  {
   "cell_type": "markdown",
   "metadata": {},
   "source": [
    "## Exercise #06-03"
   ]
  },
  {
   "cell_type": "code",
   "execution_count": 2,
   "metadata": {},
   "outputs": [],
   "source": [
    "def pyramid(char, n, alignment=-1):\n",
    "    \"\"\"Return text pyramid\"\"\"\n",
    "    # return without any return value (i.e., equivalent to None) unless the length of char is 1\n",
    "    if len(char) != 1:\n",
    "        return\n",
    "    \n",
    "    # simple trick for simpler implementation\n",
    "    # format_align[-1], format_align[0] and format_align[1] represents '<', '^' and '>', respectively\n",
    "    format_align = '^><'\n",
    "\n",
    "    # prepare an empty string result, and add lines one by one\n",
    "    result = ''\n",
    "    for i in range(1, n+1):\n",
    "        result += f'{char*i:{format_align[alignment]}{n}s}\\n'\n",
    "    return result"
   ]
  },
  {
   "cell_type": "markdown",
   "metadata": {},
   "source": [
    "Or you may make the for-loop iterator for `range(n)`, and change the expression in the format string from `char * i` to `char * (i+1)`."
   ]
  },
  {
   "cell_type": "code",
   "execution_count": 3,
   "metadata": {},
   "outputs": [],
   "source": [
    "def pyramid(char, n, alignment=-1):\n",
    "    \"\"\"Return text pyramid\"\"\"\n",
    "    # return without any return value (i.e., equivalent to None) unless the length of char is 1\n",
    "    if len(char) != 1:\n",
    "        return\n",
    "    \n",
    "    # simple trick for simpler implementation\n",
    "    # format_align[-1], format_align[0] and format_align[1] represents '<', '^' and '>', respectively\n",
    "    format_align = '^><'\n",
    "\n",
    "    # prepare an empty string result, and add lines one by one\n",
    "    result = ''\n",
    "    for i in range(n):\n",
    "        result += f'{char*(i+1):{format_align[alignment]}{n}s}\\n'\n",
    "    return result"
   ]
  },
  {
   "cell_type": "markdown",
   "metadata": {},
   "source": [
    "The following implementation almost the same as the first one, but use format() function instead of f-string."
   ]
  },
  {
   "cell_type": "code",
   "execution_count": 4,
   "metadata": {},
   "outputs": [],
   "source": [
    "def pyramid(char, n, alignment=-1):\n",
    "    \"\"\"Return text pyramid\"\"\"\n",
    "    if len(char) != 1:\n",
    "        return\n",
    "\n",
    "    format_align = '^><'\n",
    "\n",
    "    result = ''\n",
    "    for i in range(1, n+1):\n",
    "        result += '{:{}{}}\\n'.format(char * i, format_align[alignment], n)\n",
    "        # the following format string specifies the arguments to be used for clarity\n",
    "        #result += '{0:{1}{2}}\\n'.format(char * i, format_align[alignment], n)\n",
    "    return result"
   ]
  },
  {
   "cell_type": "markdown",
   "metadata": {},
   "source": [
    "In the following implementation, we first make a format string and assign it to the variable `format_string`. This takes an additional step, but may be easier to read (esp. for novice programmers.)"
   ]
  },
  {
   "cell_type": "code",
   "execution_count": 5,
   "metadata": {},
   "outputs": [],
   "source": [
    "def pyramid(char, n, alignment=-1):\n",
    "    \"\"\"Return text pyramid\"\"\"\n",
    "    if len(char) != 1:\n",
    "        return\n",
    "\n",
    "    format_align = '^><'\n",
    "\n",
    "    result = ''\n",
    "    for i in range(n):\n",
    "        # make a format string\n",
    "        if alignment == -1:\n",
    "            format_strng = '{:<{}}\\n'\n",
    "        elif alignment == 0:\n",
    "            format_strng = '{:^{}}\\n'\n",
    "        else:\n",
    "            format_strng = '{:>{}}\\n'\n",
    "            \n",
    "        result += format_string.format(char * (i+1), n)\n",
    "    return result"
   ]
  },
  {
   "cell_type": "markdown",
   "metadata": {},
   "source": [
    "In the following example, string formatting is NOT used. Instead leading/trailing spaces are composed as necessary as well as the repeated characters, then those strings are concatenated with + operator.\n",
    "\n",
    "Note that the trailing spaces does not make difference in the output on the string. But it is required by the evaluation code on elice. Or you may think this is how you can mimic the string formating with + operator. In this case, the implementation is often longer and harder to understand/implement."
   ]
  },
  {
   "cell_type": "code",
   "execution_count": 6,
   "metadata": {},
   "outputs": [],
   "source": [
    "def pyramid(char, n, alignment=-1):\n",
    "    \"\"\"Return text pyramid\"\"\"\n",
    "    if len(char) != 1:\n",
    "        return\n",
    "\n",
    "    format_align = '^><'\n",
    "\n",
    "    result = ''\n",
    "    for i in range(n):\n",
    "        # make a format string\n",
    "        if alignment == -1:\n",
    "            result += char * (i+1)\n",
    "        elif alignment == 0:\n",
    "            result += ' ' * ((n-1-i) // 2) + char * (i+1)\n",
    "        else:\n",
    "            result += ' ' * (n-i-1) + char * (i+1)\n",
    "        result += '\\n'\n",
    "    return result"
   ]
  },
  {
   "cell_type": "markdown",
   "metadata": {},
   "source": [
    "In any of the following implementation should work fine with the following examples."
   ]
  },
  {
   "cell_type": "code",
   "execution_count": 7,
   "metadata": {},
   "outputs": [
    {
     "name": "stdout",
     "output_type": "stream",
     "text": [
      "Output of pyramid('**', 3)\n",
      "None\n",
      "Output of pyramid('*', 3)\n",
      "*\n",
      "**\n",
      "***\n",
      "\n",
      "Output of pyramid('*', 5)\n",
      "*\n",
      "**\n",
      "***\n",
      "****\n",
      "*****\n",
      "\n",
      "Output of pyramid('*', 5, 0)\n",
      "  *\n",
      " **\n",
      " ***\n",
      "****\n",
      "*****\n",
      "\n",
      "Output of pyramid('*', 5, 1)\n",
      "    *\n",
      "   **\n",
      "  ***\n",
      " ****\n",
      "*****\n",
      "\n"
     ]
    }
   ],
   "source": [
    "print(\"Output of pyramid('**', 3)\")\n",
    "print(pyramid('**', 3))\n",
    "print(\"Output of pyramid('*', 3)\")\n",
    "print(pyramid('*', 3))\n",
    "print(\"Output of pyramid('*', 5)\")\n",
    "print(pyramid('*', 5))\n",
    "print(\"Output of pyramid('*', 5, 0)\")\n",
    "print(pyramid('*', 5, 0))\n",
    "print(\"Output of pyramid('*', 5, 1)\")\n",
    "print(pyramid('*', 5, 1))"
   ]
  }
 ],
 "metadata": {
  "kernelspec": {
   "display_name": "Python 3",
   "language": "python",
   "name": "python3"
  },
  "language_info": {
   "codemirror_mode": {
    "name": "ipython",
    "version": 3
   },
   "file_extension": ".py",
   "mimetype": "text/x-python",
   "name": "python",
   "nbconvert_exporter": "python",
   "pygments_lexer": "ipython3",
   "version": "3.6.4"
  }
 },
 "nbformat": 4,
 "nbformat_minor": 2
}
