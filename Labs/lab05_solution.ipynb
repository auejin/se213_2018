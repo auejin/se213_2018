{
 "cells": [
  {
   "cell_type": "markdown",
   "metadata": {},
   "source": [
    "# Lab #05 Solution"
   ]
  },
  {
   "cell_type": "markdown",
   "metadata": {},
   "source": [
    "## Exercise #05-1"
   ]
  },
  {
   "cell_type": "markdown",
   "metadata": {},
   "source": [
    "In the following example, I used a variable named `_`. Since it is a legitimite variable name, you may use it as other variables. But it is often used as a placeholder variable, which is NOT referenced later. See the second item of the following article.\n",
    "- [Understanding the underscore( _ ) of Python](https://hackernoon.com/understanding-the-underscore-of-python-309d1a029edc)\n",
    "- [파이썬 언더스코어(_)에 대하여](https://mingrammer.com/underscore-in-python/)"
   ]
  },
  {
   "cell_type": "code",
   "execution_count": 1,
   "metadata": {},
   "outputs": [
    {
     "name": "stdout",
     "output_type": "stream",
     "text": [
      "[]\n",
      "[84, 2048, 46]\n",
      "[840, 20480, 460]\n",
      "[420.0, 10240.0, 230.0]\n",
      "['ii', 'lovelove', 'pythonpython']\n"
     ]
    }
   ],
   "source": [
    "def multiply_by_a_constant(t, a):\n",
    "    \"\"\"Multiply a to every element in t\"\"\"\n",
    "    for i, _ in enumerate(t):\n",
    "        t[i] *= a\n",
    "    return t\n",
    "\n",
    "\n",
    "print(multiply_by_a_constant([], 0))\n",
    "t = [42, 1024, 23]\n",
    "multiply_by_a_constant(t, 2)\n",
    "print(t)\n",
    "multiply_by_a_constant(t, 10)\n",
    "print(t)\n",
    "multiply_by_a_constant(t, 0.5)\n",
    "print(t)\n",
    "s = ['i', 'love', 'python']\n",
    "multiply_by_a_constant(s, 2)\n",
    "print(s)"
   ]
  },
  {
   "cell_type": "markdown",
   "metadata": {},
   "source": [
    "## Exercise #05-2"
   ]
  },
  {
   "cell_type": "code",
   "execution_count": 3,
   "metadata": {},
   "outputs": [
    {
     "name": "stdout",
     "output_type": "stream",
     "text": [
      "[42, 1024, 23]\n",
      "[6, 28, 496]\n",
      "[48, 1052, 519]\n",
      "[6, 28, 496]\n",
      "[12, 56, 992]\n",
      "None\n",
      "[]\n"
     ]
    }
   ],
   "source": [
    "def add(t1, t2):\n",
    "    \"\"\"Return a new list with element-wise sum of t1 and t2\n",
    "\n",
    "       In case t1 and t2 have different number of elements, return None\n",
    "    \"\"\"\n",
    "    if len(t1) == len(t2):\n",
    "        new_list = []\n",
    "        for i in range(len(t1)):\n",
    "            new_list.append(t1[i] + t2[i])\n",
    "        return new_list\n",
    "\n",
    "    \n",
    "t1 = [42, 1024, 23]\n",
    "t2 = [6, 28, 496]\n",
    "t3 = add(t1, t2)\n",
    "print(t1)\n",
    "print(t2)\n",
    "print(t3)\n",
    "t4 = add(t2, t2)\n",
    "print(t2)\n",
    "print(t4)\n",
    "t5 = add(t1, [1])\n",
    "print(t5)\n",
    "print(add([], []))"
   ]
  },
  {
   "cell_type": "markdown",
   "metadata": {},
   "source": [
    "The following implementation is almost the same as the above implentation, but the difference lies in how to handle exceptional cases.\n",
    "\n",
    "In general, the following implementation is better, where the exceptional cases are handled first, and then the normal cases are handled. The pros of this approach are as follows.\n",
    "- When there are more than one exceptional cases, you can add if-statement as necessary.\n",
    "- It is easier to add or remove exceptional cases without altering indentation of the codes for normal cases.\n",
    "- You can eliminated unnecessary indentation of the codes for normal cases.\n",
    "\n",
    "However, the implementation as the above case is frequently used especially when the condition to check the normal case is simple."
   ]
  },
  {
   "cell_type": "code",
   "execution_count": null,
   "metadata": {},
   "outputs": [],
   "source": [
    "def add(t1, t2):\n",
    "    \"\"\"Return a new list with element-wise sum of t1 and t2\n",
    "\n",
    "       In case t1 and t2 have different number of elements, return None\n",
    "    \"\"\"\n",
    "    if len(t1) != len(t2):\n",
    "        return\n",
    "\n",
    "    new_list = []\n",
    "    for i in range(len(t1)):\n",
    "        new_list.append(t1[i] + t2[i])\n",
    "    return new_list\n",
    "\n",
    "    \n",
    "t1 = [42, 1024, 23]\n",
    "t2 = [6, 28, 496]\n",
    "t3 = add(t1, t2)\n",
    "print(t1)\n",
    "print(t2)\n",
    "print(t3)\n",
    "t4 = add(t2, t2)\n",
    "print(t2)\n",
    "print(t4)\n",
    "t5 = add(t1, [1])\n",
    "print(t5)\n",
    "print(add([], []))"
   ]
  },
  {
   "cell_type": "markdown",
   "metadata": {},
   "source": [
    "## Exercise #05-3"
   ]
  },
  {
   "cell_type": "markdown",
   "metadata": {},
   "source": [
    "See the lecture note #6 for the discussion on how to construct loops.\n",
    "\n",
    "Also think of the optimal strategy how you can guess the correct number on average. (In fact, this is an e"
   ]
  },
  {
   "cell_type": "code",
   "execution_count": 4,
   "metadata": {},
   "outputs": [
    {
     "name": "stdout",
     "output_type": "stream",
     "text": [
      "Enter your guess: 10\n",
      "Too small!\n",
      "Enter your guess: 3\n",
      "Too small!\n",
      "Enter your guess: 4\n",
      "Too small!\n",
      "Enter your guess: 50\n",
      "Too big!\n",
      "Enter your guess: 27\n",
      "Too small!\n",
      "Enter your guess: 35\n",
      "Too small!\n",
      "Enter your guess: 42\n",
      "Too small!\n",
      "Enter your guess: 47\n",
      "Too big!\n",
      "Enter your guess: 44\n",
      "Too small!\n",
      "Enter your guess: 46\n",
      "You got it!\n"
     ]
    }
   ],
   "source": [
    "import random\n",
    "\n",
    "\n",
    "def guess_number():\n",
    "    \"\"\"Generate a random and tell user whether their guessed number\n",
    "    is correct\"\"\"\n",
    "    random_number = random.randrange(0, 100)\n",
    "    while True:\n",
    "        guessed_number = int(input('Enter your guess: '))\n",
    "        if guessed_number > random_number:\n",
    "            print('Too big!')\n",
    "        elif guessed_number < random_number:\n",
    "            print('Too small!')\n",
    "        else:\n",
    "            print('You got it!')\n",
    "            break\n",
    "\n",
    "\n",
    "guess_number()"
   ]
  }
 ],
 "metadata": {
  "kernelspec": {
   "display_name": "Python 3",
   "language": "python",
   "name": "python3"
  },
  "language_info": {
   "codemirror_mode": {
    "name": "ipython",
    "version": 3
   },
   "file_extension": ".py",
   "mimetype": "text/x-python",
   "name": "python",
   "nbconvert_exporter": "python",
   "pygments_lexer": "ipython3",
   "version": "3.6.4"
  }
 },
 "nbformat": 4,
 "nbformat_minor": 2
}
