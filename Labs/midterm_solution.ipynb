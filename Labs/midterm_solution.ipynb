{
 "cells": [
  {
   "cell_type": "markdown",
   "metadata": {},
   "source": [
    "# Midterm"
   ]
  },
  {
   "cell_type": "markdown",
   "metadata": {},
   "source": [
    "## Problem 1"
   ]
  },
  {
   "cell_type": "code",
   "execution_count": 1,
   "metadata": {},
   "outputs": [
    {
     "data": {
      "text/plain": [
       "True"
      ]
     },
     "execution_count": 1,
     "metadata": {},
     "output_type": "execute_result"
    }
   ],
   "source": [
    "v1 = int('42')\n",
    "v1 == 42"
   ]
  },
  {
   "cell_type": "code",
   "execution_count": 2,
   "metadata": {},
   "outputs": [
    {
     "data": {
      "text/plain": [
       "True"
      ]
     },
     "execution_count": 2,
     "metadata": {},
     "output_type": "execute_result"
    }
   ],
   "source": [
    "v1 = 'Alice'\n",
    "v2 = 'Alice'\n",
    "v1 == v2"
   ]
  },
  {
   "cell_type": "code",
   "execution_count": 3,
   "metadata": {},
   "outputs": [
    {
     "ename": "NameError",
     "evalue": "name 'apple' is not defined",
     "output_type": "error",
     "traceback": [
      "\u001b[0;31m---------------------------------------------------------------------------\u001b[0m",
      "\u001b[0;31mNameError\u001b[0m                                 Traceback (most recent call last)",
      "\u001b[0;32m<ipython-input-3-72e525df37d1>\u001b[0m in \u001b[0;36m<module>\u001b[0;34m()\u001b[0m\n\u001b[0;32m----> 1\u001b[0;31m \u001b[0mapple\u001b[0m \u001b[0;32min\u001b[0m \u001b[0;34m[\u001b[0m\u001b[0;34m'apple'\u001b[0m\u001b[0;34m,\u001b[0m \u001b[0;34m'pineapple'\u001b[0m\u001b[0;34m,\u001b[0m \u001b[0;34m'grape'\u001b[0m\u001b[0;34m]\u001b[0m  \u001b[0;31m# the answer should be Error\u001b[0m\u001b[0;34m\u001b[0m\u001b[0m\n\u001b[0m",
      "\u001b[0;31mNameError\u001b[0m: name 'apple' is not defined"
     ]
    }
   ],
   "source": [
    "apple in ['apple', 'pineapple', 'grape']  # the answer should be Error"
   ]
  },
  {
   "cell_type": "code",
   "execution_count": 4,
   "metadata": {},
   "outputs": [
    {
     "data": {
      "text/plain": [
       "False"
      ]
     },
     "execution_count": 4,
     "metadata": {},
     "output_type": "execute_result"
    }
   ],
   "source": [
    "[1] in [1, 2, 3]"
   ]
  },
  {
   "cell_type": "code",
   "execution_count": 5,
   "metadata": {},
   "outputs": [
    {
     "name": "stdout",
     "output_type": "stream",
     "text": [
      "3\n"
     ]
    },
    {
     "data": {
      "text/plain": [
       "False"
      ]
     },
     "execution_count": 5,
     "metadata": {},
     "output_type": "execute_result"
    }
   ],
   "source": [
    "print('3') == '3'"
   ]
  },
  {
   "cell_type": "markdown",
   "metadata": {},
   "source": [
    "\n",
    "\n",
    "\n",
    "\n",
    "\n",
    "\n",
    "\n",
    "\n",
    "\n",
    "\n",
    "\n",
    "\n",
    "\n",
    "\n",
    "\n"
   ]
  },
  {
   "cell_type": "markdown",
   "metadata": {},
   "source": [
    "## Problem 2"
   ]
  },
  {
   "cell_type": "code",
   "execution_count": 6,
   "metadata": {},
   "outputs": [
    {
     "name": "stdout",
     "output_type": "stream",
     "text": [
      "[3.14, 3.14]\n"
     ]
    }
   ],
   "source": [
    "print([3.14] * 2)"
   ]
  },
  {
   "cell_type": "code",
   "execution_count": 7,
   "metadata": {},
   "outputs": [
    {
     "name": "stdout",
     "output_type": "stream",
     "text": [
      "42b-_-d1024b-_-d23^^"
     ]
    }
   ],
   "source": [
    "print(42, 1024, 23, sep='b-_-d', end='^^')"
   ]
  },
  {
   "cell_type": "code",
   "execution_count": 8,
   "metadata": {},
   "outputs": [
    {
     "name": "stdout",
     "output_type": "stream",
     "text": [
      "Fahrenheit\n"
     ]
    }
   ],
   "source": [
    "char = 'c'\n",
    "if char == 'f' or 'F':\n",
    "    print('Fahrenheit')\n",
    "else:\n",
    "    print('Celsius')"
   ]
  },
  {
   "cell_type": "code",
   "execution_count": 9,
   "metadata": {},
   "outputs": [
    {
     "name": "stdout",
     "output_type": "stream",
     "text": [
      "4\n"
     ]
    }
   ],
   "source": [
    "a = 3\n",
    "b = a ** 2\n",
    "c = b // 2\n",
    "print(c)"
   ]
  },
  {
   "cell_type": "code",
   "execution_count": 10,
   "metadata": {},
   "outputs": [
    {
     "name": "stdout",
     "output_type": "stream",
     "text": [
      "2 2 3\n"
     ]
    }
   ],
   "source": [
    "t1 = [42, 1024, 23]\n",
    "t2 = t1\n",
    "t3 = t1.copy()\n",
    "t4 = [t1, t2, t3]\n",
    "t4[0][2] = 1\n",
    "t4[1][2] = 2\n",
    "t4[2][2] = 3\n",
    "print(t4[0][2], t4[1][2], t4[2][2])"
   ]
  },
  {
   "cell_type": "markdown",
   "metadata": {},
   "source": [
    "## Problem 3"
   ]
  },
  {
   "cell_type": "code",
   "execution_count": 11,
   "metadata": {},
   "outputs": [],
   "source": [
    "def problem4_1(x, y):\n",
    "    print(x + y)\n",
    "\n",
    "def problem4_2(x, y):\n",
    "    return x + y\n",
    "\n",
    "def problem4_3(x, y):\n",
    "    print(x + y)\n",
    "    return x + y"
   ]
  },
  {
   "cell_type": "code",
   "execution_count": 12,
   "metadata": {},
   "outputs": [
    {
     "name": "stdout",
     "output_type": "stream",
     "text": [
      "# 4-1\n",
      "3\n",
      "# 4-2\n",
      "# 4-3\n",
      "3\n",
      "# 4-4\n",
      "3\n",
      "None\n",
      "# 4-5\n",
      "3\n",
      "# 4-6\n",
      "3\n",
      "3\n"
     ]
    }
   ],
   "source": [
    "print('# 4-1')\n",
    "problem4_1(1, 2)\n",
    "print('# 4-2') # nothing is printed. This is differenct from the case that 'None' is printed\n",
    "problem4_2(1, 2)\n",
    "print('# 4-3')\n",
    "problem4_3(1, 2)\n",
    "print('# 4-4')\n",
    "print(problem4_1(1, 2))\n",
    "print('# 4-5')\n",
    "print(problem4_2(1, 2))\n",
    "print('# 4-6')\n",
    "print(problem4_3(1, 2))"
   ]
  },
  {
   "cell_type": "markdown",
   "metadata": {},
   "source": [
    "## Problem 4"
   ]
  },
  {
   "cell_type": "code",
   "execution_count": 13,
   "metadata": {},
   "outputs": [
    {
     "ename": "NameError",
     "evalue": "name 'My_Var' is not defined",
     "output_type": "error",
     "traceback": [
      "\u001b[0;31m---------------------------------------------------------------------------\u001b[0m",
      "\u001b[0;31mNameError\u001b[0m                                 Traceback (most recent call last)",
      "\u001b[0;32m<ipython-input-13-8de3ed5c3206>\u001b[0m in \u001b[0;36m<module>\u001b[0;34m()\u001b[0m\n\u001b[1;32m      1\u001b[0m \u001b[0mmy_var\u001b[0m \u001b[0;34m=\u001b[0m \u001b[0;36m42\u001b[0m\u001b[0;34m\u001b[0m\u001b[0m\n\u001b[0;32m----> 2\u001b[0;31m \u001b[0mprint\u001b[0m\u001b[0;34m(\u001b[0m\u001b[0mMy_Var\u001b[0m\u001b[0;34m)\u001b[0m\u001b[0;34m\u001b[0m\u001b[0m\n\u001b[0m",
      "\u001b[0;31mNameError\u001b[0m: name 'My_Var' is not defined"
     ]
    }
   ],
   "source": [
    "my_var = 42\n",
    "print(My_Var)"
   ]
  },
  {
   "cell_type": "code",
   "execution_count": 14,
   "metadata": {},
   "outputs": [
    {
     "name": "stdout",
     "output_type": "stream",
     "text": [
      "42\n"
     ]
    },
    {
     "ename": "IndexError",
     "evalue": "list index out of range",
     "output_type": "error",
     "traceback": [
      "\u001b[0;31m---------------------------------------------------------------------------\u001b[0m",
      "\u001b[0;31mIndexError\u001b[0m                                Traceback (most recent call last)",
      "\u001b[0;32m<ipython-input-14-7175b7598b59>\u001b[0m in \u001b[0;36m<module>\u001b[0;34m()\u001b[0m\n\u001b[1;32m      1\u001b[0m \u001b[0msequence\u001b[0m \u001b[0;34m=\u001b[0m \u001b[0;34m[\u001b[0m\u001b[0;36m42\u001b[0m\u001b[0;34m,\u001b[0m \u001b[0;36m1024\u001b[0m\u001b[0;34m,\u001b[0m \u001b[0;36m23\u001b[0m\u001b[0;34m]\u001b[0m\u001b[0;34m\u001b[0m\u001b[0m\n\u001b[1;32m      2\u001b[0m \u001b[0mprint\u001b[0m\u001b[0;34m(\u001b[0m\u001b[0msequence\u001b[0m\u001b[0;34m[\u001b[0m\u001b[0;34m-\u001b[0m\u001b[0;36m3\u001b[0m\u001b[0;34m]\u001b[0m\u001b[0;34m)\u001b[0m\u001b[0;34m\u001b[0m\u001b[0m\n\u001b[0;32m----> 3\u001b[0;31m \u001b[0mprint\u001b[0m\u001b[0;34m(\u001b[0m\u001b[0msequence\u001b[0m\u001b[0;34m[\u001b[0m\u001b[0;36m3\u001b[0m\u001b[0;34m]\u001b[0m\u001b[0;34m)\u001b[0m\u001b[0;34m\u001b[0m\u001b[0m\n\u001b[0m",
      "\u001b[0;31mIndexError\u001b[0m: list index out of range"
     ]
    }
   ],
   "source": [
    "sequence = [42, 1024, 23]\n",
    "print(sequence[-3])\n",
    "print(sequence[3])"
   ]
  },
  {
   "cell_type": "code",
   "execution_count": 15,
   "metadata": {},
   "outputs": [
    {
     "ename": "TypeError",
     "evalue": "must be str, not int",
     "output_type": "error",
     "traceback": [
      "\u001b[0;31m---------------------------------------------------------------------------\u001b[0m",
      "\u001b[0;31mTypeError\u001b[0m                                 Traceback (most recent call last)",
      "\u001b[0;32m<ipython-input-15-7b0874be4bd6>\u001b[0m in \u001b[0;36m<module>\u001b[0;34m()\u001b[0m\n\u001b[1;32m      1\u001b[0m \u001b[0mvar\u001b[0m \u001b[0;34m=\u001b[0m \u001b[0;36m42\u001b[0m\u001b[0;34m\u001b[0m\u001b[0m\n\u001b[0;32m----> 2\u001b[0;31m \u001b[0mprint\u001b[0m\u001b[0;34m(\u001b[0m\u001b[0;34m'var'\u001b[0m \u001b[0;34m+\u001b[0m \u001b[0;36m1\u001b[0m\u001b[0;34m)\u001b[0m\u001b[0;34m\u001b[0m\u001b[0m\n\u001b[0m",
      "\u001b[0;31mTypeError\u001b[0m: must be str, not int"
     ]
    }
   ],
   "source": [
    "var = 42\n",
    "print('var' + 1)"
   ]
  },
  {
   "cell_type": "code",
   "execution_count": 16,
   "metadata": {},
   "outputs": [
    {
     "ename": "SyntaxError",
     "evalue": "invalid syntax (<ipython-input-16-5f9f0d312386>, line 4)",
     "output_type": "error",
     "traceback": [
      "\u001b[0;36m  File \u001b[0;32m\"<ipython-input-16-5f9f0d312386>\"\u001b[0;36m, line \u001b[0;32m4\u001b[0m\n\u001b[0;31m    else number % 2 != 0:\u001b[0m\n\u001b[0m              ^\u001b[0m\n\u001b[0;31mSyntaxError\u001b[0m\u001b[0;31m:\u001b[0m invalid syntax\n"
     ]
    }
   ],
   "source": [
    "number = 42\n",
    "if number % 2 == 0:\n",
    "    print(number, 'is an even number.')\n",
    "else number % 2 != 0:\n",
    "    print(number, 'is an odd number.')"
   ]
  },
  {
   "cell_type": "markdown",
   "metadata": {},
   "source": [
    "## Problem5"
   ]
  },
  {
   "cell_type": "code",
   "execution_count": 17,
   "metadata": {},
   "outputs": [
    {
     "name": "stdout",
     "output_type": "stream",
     "text": [
      "1101\n",
      "110\n"
     ]
    }
   ],
   "source": [
    "# binary number\n",
    "def problem5(n):\n",
    "    result = ''\n",
    "    while n > 0:\n",
    "        result = str(n % 2) + result\n",
    "        n = n // 2\n",
    "    return result\n",
    "    \n",
    "print(problem5(13))\n",
    "print(problem5(6))"
   ]
  },
  {
   "cell_type": "markdown",
   "metadata": {},
   "source": [
    "## Problem 6"
   ]
  },
  {
   "cell_type": "code",
   "execution_count": 18,
   "metadata": {},
   "outputs": [
    {
     "name": "stdout",
     "output_type": "stream",
     "text": [
      "  I\n",
      " GIS\n",
      "DGIST\n",
      " GIS\n",
      "  I\n"
     ]
    }
   ],
   "source": [
    "def problem6(string):\n",
    "    mid = len(string) // 2\n",
    "    for i in range(mid + 1):\n",
    "        print(' ' * (mid - i), end='')\n",
    "        print(string[mid-i:mid+i+1])\n",
    "\n",
    "    for i in range(1, mid+1):\n",
    "        print(' ' * i, end='')\n",
    "        print(string[i:len(string)-i])\n",
    "\n",
    "        \n",
    "problem6('DGIST')"
   ]
  },
  {
   "cell_type": "markdown",
   "metadata": {},
   "source": [
    "## Problem 7"
   ]
  },
  {
   "cell_type": "code",
   "execution_count": 19,
   "metadata": {},
   "outputs": [
    {
     "name": "stdout",
     "output_type": "stream",
     "text": [
      "[0.2, 0.0, 1.0, 0.4, 0.6]\n",
      "[0.2, 0.0, 1.0, 0.4, 0.6]\n"
     ]
    }
   ],
   "source": [
    "# min-max  normalization\n",
    "def problem7(t):\n",
    "    left = min(t)\n",
    "    right = max(t)\n",
    "    for i, v in enumerate(t):\n",
    "        t[i] = (v - left) / (right - left)\n",
    "    return t.copy()\n",
    "\n",
    "t1 = [6, 5, 10, 7, 8]\n",
    "t2 = problem7(t1)\n",
    "print(t1)\n",
    "print(t2)"
   ]
  },
  {
   "cell_type": "markdown",
   "metadata": {},
   "source": [
    "## Problem 8"
   ]
  },
  {
   "cell_type": "code",
   "execution_count": 20,
   "metadata": {
    "scrolled": true
   },
   "outputs": [
    {
     "name": "stdout",
     "output_type": "stream",
     "text": [
      "None\n",
      "4\n",
      "4\n",
      "1\n",
      "4\n",
      "3\n",
      "496\n"
     ]
    }
   ],
   "source": [
    "# largest and second_largest store the largest and the second largest, respectively\n",
    "def second_largest(sequence):\n",
    "    if len(sequence) < 2:\n",
    "        return None\n",
    "\n",
    "    # intialize largest and second_largest with the smallest number\n",
    "    # since all the values are positive, 0 is smaller than any value\n",
    "    largest, second_largest = 0, 0\n",
    "    for v in sequence:\n",
    "        if v > largest:\n",
    "            # if the current value (v) is greater than largest,\n",
    "            # largest takes the current value (v)\n",
    "            # second_largest takes the previously largest value (largest)\n",
    "            largest, second_largest = v, largest\n",
    "        elif v > second_largest:\n",
    "            # if the current value (v) is equal to or less than largest\n",
    "            #   AND the current value (v) is greater than second_largest,\n",
    "            # second_largest takes it (v)\n",
    "            second_largest = v\n",
    "            \n",
    "    return second_largest\n",
    "\n",
    "\n",
    "print(second_largest([42]))\n",
    "print(second_largest([1, 2, 3, 4, 5]))\n",
    "print(second_largest([5, 4, 3, 2, 1]))\n",
    "print(second_largest([1, 1, 1, 1, 1]))\n",
    "print(second_largest([4, 4, 3]))\n",
    "print(second_largest([4, 3, 3]))\n",
    "print(second_largest([42, 1024, 23, 6, 28, 496]))"
   ]
  },
  {
   "cell_type": "code",
   "execution_count": 21,
   "metadata": {},
   "outputs": [
    {
     "name": "stdout",
     "output_type": "stream",
     "text": [
      "None\n",
      "4\n",
      "4\n",
      "1\n",
      "4\n",
      "3\n",
      "496\n"
     ]
    }
   ],
   "source": [
    "def second_largest(sequence):\n",
    "    if len(sequence) < 2:\n",
    "        return None\n",
    "\n",
    "    # find the largest value and its index\n",
    "    largest = 0\n",
    "    for i, v in enumerate(sequence):\n",
    "        if v > largest:\n",
    "            largest = v\n",
    "            index_largest = i\n",
    "      \n",
    "    # then find the second largest value and its index\n",
    "    second_largest = 0\n",
    "    for i, v in enumerate(sequence):\n",
    "        if i != index_largest and v > second_largest:\n",
    "            second_largest = v\n",
    "            index_second_largest = i\n",
    "            \n",
    "    return sequence[index_second_largest]\n",
    "\n",
    "\n",
    "print(second_largest([42]))\n",
    "print(second_largest([1, 2, 3, 4, 5]))\n",
    "print(second_largest([5, 4, 3, 2, 1]))\n",
    "print(second_largest([1, 1, 1, 1, 1]))\n",
    "print(second_largest([4, 4, 3]))\n",
    "print(second_largest([4, 3, 3]))\n",
    "print(second_largest([42, 1024, 23, 6, 28, 496]))"
   ]
  },
  {
   "cell_type": "markdown",
   "metadata": {},
   "source": [
    "## Problem 9"
   ]
  },
  {
   "cell_type": "code",
   "execution_count": 22,
   "metadata": {},
   "outputs": [
    {
     "name": "stdout",
     "output_type": "stream",
     "text": [
      "True\n",
      "True\n",
      "False\n",
      "True\n"
     ]
    }
   ],
   "source": [
    "def lengthier(sequence):\n",
    "    for i in range(len(sequence) - 1):\n",
    "        if len(sequence[i]) > len(sequence[i+1]):\n",
    "            return False\n",
    "    return True\n",
    "\n",
    "\n",
    "print(lengthier(['a', 'b', 'c']))\n",
    "print(lengthier(['a', 'bc', 'def']))\n",
    "print(lengthier(['abc', 'de']))\n",
    "print(lengthier([]))"
   ]
  },
  {
   "cell_type": "markdown",
   "metadata": {},
   "source": [
    "## Problem 10"
   ]
  },
  {
   "cell_type": "code",
   "execution_count": 23,
   "metadata": {},
   "outputs": [
    {
     "name": "stdout",
     "output_type": "stream",
     "text": [
      "False\n",
      "False\n",
      "True\n",
      "False\n",
      "True\n"
     ]
    }
   ],
   "source": [
    "# perfect number\n",
    "def perfect(n):\n",
    "    # find all the factors of n, except n\n",
    "    factors = []\n",
    "    for i in range(1, n):\n",
    "        if n % i == 0:\n",
    "            factors.append(i)\n",
    "    return sum(factors) == n\n",
    "\n",
    "print(perfect(1))\n",
    "print(perfect(2))\n",
    "print(perfect(6))\n",
    "print(perfect(7))\n",
    "print(perfect(28))"
   ]
  }
 ],
 "metadata": {
  "kernelspec": {
   "display_name": "Python 3",
   "language": "python",
   "name": "python3"
  },
  "language_info": {
   "codemirror_mode": {
    "name": "ipython",
    "version": 3
   },
   "file_extension": ".py",
   "mimetype": "text/x-python",
   "name": "python",
   "nbconvert_exporter": "python",
   "pygments_lexer": "ipython3",
   "version": "3.6.4"
  }
 },
 "nbformat": 4,
 "nbformat_minor": 2
}
